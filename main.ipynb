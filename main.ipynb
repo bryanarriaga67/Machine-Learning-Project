{
 "cells": [
  {
   "cell_type": "markdown",
   "metadata": {},
   "source": [
    "Imports"
   ]
  },
  {
   "cell_type": "code",
   "execution_count": 52,
   "metadata": {},
   "outputs": [],
   "source": [
    "import pandas as pd\n",
    "from sklearn.ensemble import RandomForestRegressor\n",
    "from sklearn.model_selection import train_test_split\n",
    "from sklearn.metrics import mean_squared_error, r2_score\n",
    "from sklearn.linear_model import LinearRegression\n",
    "from sklearn.ensemble import HistGradientBoostingRegressor\n",
    "from sklearn.preprocessing import MinMaxScaler\n",
    "import numpy as np\n",
    "import matplotlib as plt\n",
    "from matplotlib import pyplot\n",
    "from sklearn.metrics import mean_absolute_error\n",
    "from matplotlib import figure\n"
   ]
  },
  {
   "cell_type": "markdown",
   "metadata": {},
   "source": [
    "Modify CSV for more features"
   ]
  },
  {
   "cell_type": "code",
   "execution_count": 53,
   "metadata": {},
   "outputs": [],
   "source": [
    "df = pd.read_csv('datasets/SP500.csv')\n",
    "target_column = 4\n",
    "\n",
    "# Shift the target column by -1 to get the next row's value\n",
    "df['next_day_target'] = df.iloc[:, target_column].shift(-1)\n",
    "\n",
    "# Create new columns for previous day's features\n",
    "prev_day_columns = ['open', 'high', 'low', 'close', 'volume', 'change_percent']\n",
    "for column in prev_day_columns:\n",
    "    df[f'prev_day_{column}'] = df[column].shift(1)\n",
    "\n",
    "# Create new columns for previous week's features\n",
    "prev_week_columns = ['open', 'high', 'low', 'close', 'volume', 'change_percent']\n",
    "for column in prev_week_columns:\n",
    "    df[f'prev_week_{column}'] = df[column].shift(5)\n",
    "\n",
    "# Create new columns for previous month's features\n",
    "prev_month_columns = ['open', 'high', 'low', 'close', 'volume', 'change_percent']\n",
    "for column in prev_month_columns:\n",
    "    df[f'prev_month_{column}'] = df[column].shift(21)  # Assuming 21 trading days in a month\n",
    "\n",
    "# Calculate trend percentage for previous week and previous month\n",
    "df['prev_week_trend_percentage'] = (df['close'] - df['prev_week_close']) / df['prev_week_close'] * 100\n",
    "df['prev_month_trend_percentage'] = (df['close'] - df['prev_month_close']) / df['prev_month_close'] * 100\n",
    "\n",
    "# Calculate previous week's volatility\n",
    "df['returns'] = df['close'].pct_change()\n",
    "df['prev_week_volatility'] = df['returns'].rolling(window=5).std()\n",
    "\n",
    "# Calculate previous month's volatility\n",
    "df['prev_month_volatility'] = df['returns'].rolling(window=21).std()\n",
    "\n",
    "# Drop rows with missing values\n",
    "df = df.dropna()\n",
    "\n",
    "# Save the modified DataFrame back to a CSV file\n",
    "df.to_csv('modified_file.csv', index=False)"
   ]
  },
  {
   "cell_type": "markdown",
   "metadata": {},
   "source": [
    "Read modified file"
   ]
  },
  {
   "cell_type": "code",
   "execution_count": 61,
   "metadata": {},
   "outputs": [],
   "source": [
    "# Read data\n",
    "data = pd.read_csv('modified_file.csv')\n",
    "X = data[['open', 'high', 'low', 'close', 'volume', 'change_percent',\n",
    "          'prev_day_open', 'prev_day_high', 'prev_day_low', 'prev_day_close', 'prev_day_volume', 'prev_day_change_percent',\n",
    "          'prev_week_open', 'prev_week_high', 'prev_week_low', 'prev_week_close', 'prev_week_volume', 'prev_week_change_percent',\n",
    "          'prev_month_open', 'prev_month_high', 'prev_month_low', 'prev_month_close', 'prev_month_volume', 'prev_month_change_percent',\n",
    "          'prev_week_trend_percentage', 'prev_month_trend_percentage',\n",
    "          'prev_week_volatility', 'prev_month_volatility']]\n",
    "y = data['next_day_target']  # Target variable\n",
    "scaler_X = MinMaxScaler()\n",
    "scaler_y = MinMaxScaler()\n",
    "\n",
    "X_scaled = scaler_X.fit_transform(X)\n",
    "y_scaled = scaler_y.fit_transform(y.values.reshape(-1, 1))\n",
    "X_train, X_test, y_train, y_test = train_test_split(X_scaled, y_scaled, test_size=0.2, random_state=42)\n"
   ]
  },
  {
   "cell_type": "markdown",
   "metadata": {},
   "source": [
    "Predicting next day with HistGradientBoostingRegressor"
   ]
  },
  {
   "cell_type": "code",
   "execution_count": 63,
   "metadata": {},
   "outputs": [
    {
     "name": "stdout",
     "output_type": "stream",
     "text": [
      "Mean Squared Error: 1.123330615375251e-05\n",
      "R-squared: 0.999701969933242\n",
      "Mean Absolute Error: 0.0012767063344930965\n",
      "Linear Regression - Predicted next day stock price: 4161.660695389533\n"
     ]
    },
    {
     "name": "stderr",
     "output_type": "stream",
     "text": [
      "c:\\Programming\\Python\\Lib\\site-packages\\sklearn\\utils\\validation.py:1300: DataConversionWarning: A column-vector y was passed when a 1d array was expected. Please change the shape of y to (n_samples, ), for example using ravel().\n",
      "  y = column_or_1d(y, warn=True)\n"
     ]
    }
   ],
   "source": [
    "\n",
    "\n",
    "hgb_regressor = HistGradientBoostingRegressor(random_state=42)\n",
    "hgb_regressor.fit(X_train, y_train)  # Train the model\n",
    "\n",
    "y_pred = hgb_regressor.predict(X_test)  # Make predictions on the test set\n",
    "\n",
    "mse_gradient_reg = mean_squared_error(y_test, y_pred)\n",
    "r2_gradient_reg = r2_score(y_test, y_pred)\n",
    "print(\"Mean Squared Error:\", mse_gradient_reg)\n",
    "print(\"R-squared:\", r2_gradient_reg)\n",
    "mae_gradient_reg = mean_absolute_error(y_test, y_pred)\n",
    "print(\"Mean Absolute Error:\", mae_gradient_reg)\n",
    "\n",
    "future_data = pd.DataFrame({\n",
    "    'open': [4150.00],\n",
    "    'high': [4180.00],\n",
    "    'low': [4140.00],\n",
    "    'close': [4175.00],\n",
    "    'volume': [3500000],\n",
    "    'change_percent': [0.6],\n",
    "    'prev_day_open': [4140.00],\n",
    "    'prev_day_high': [4160.00],\n",
    "    'prev_day_low': [4135.00],\n",
    "    'prev_day_close': [4150.00],\n",
    "    'prev_day_volume': [3450000],\n",
    "    'prev_day_change_percent': [0.2],\n",
    "    'prev_week_open': [4100.00],\n",
    "    'prev_week_high': [4200.00],\n",
    "    'prev_week_low': [4080.00],\n",
    "    'prev_week_close': [4130.00],\n",
    "    'prev_week_volume': [3300000],\n",
    "    'prev_week_change_percent': [0.7],\n",
    "    'prev_month_open': [4000.00],\n",
    "    'prev_month_high': [4250.00],\n",
    "    'prev_month_low': [3950.00],\n",
    "    'prev_month_close': [4050.00],\n",
    "    'prev_month_volume': [3200000],\n",
    "    'prev_month_change_percent': [1.2],\n",
    "    'prev_week_trend_percentage': [1.09],  # Calculated: (4175.00 - 4130.00) / 4130.00 * 100\n",
    "    'prev_month_trend_percentage': [3.09],  # Calculated: (4175.00 - 4050.00) / 4050.00 * 100\n",
    "    'prev_week_volatility': [0.015],  # Placeholder value, replace with actual volatility if available\n",
    "    'prev_month_volatility': [0.025]  # Placeholder value, replace with actual volatility if available\n",
    "})\n",
    "future_data_scaled = scaler_X.transform(future_data)  # Use the scaler fit on X\n",
    "future_pred_scaled = hgb_regressor.predict(future_data_scaled)\n",
    "\n",
    "# Inverse transform the predicted price to the original scale\n",
    "future_pred = scaler_y.inverse_transform(future_pred_scaled.reshape(-1, 1))\n",
    "print(\"HGB Regressor - Predicted next day stock price:\", future_pred[0][0])"
   ]
  },
  {
   "cell_type": "code",
   "execution_count": 59,
   "metadata": {},
   "outputs": [
    {
     "name": "stdout",
     "output_type": "stream",
     "text": [
      "Linear Regression - Mean Squared Error: 7.295114166477183e-06\n",
      "Linear Regression - R-squared: 0.9998064538318208\n",
      "Linear Regression - Mean Absolute Error: 0.0009284344681025141\n"
     ]
    },
    {
     "name": "stderr",
     "output_type": "stream",
     "text": [
      "c:\\Programming\\Python\\Lib\\site-packages\\sklearn\\base.py:486: UserWarning: X has feature names, but MinMaxScaler was fitted without feature names\n",
      "  warnings.warn(\n"
     ]
    },
    {
     "ename": "ValueError",
     "evalue": "X has 28 features, but MinMaxScaler is expecting 1 features as input.",
     "output_type": "error",
     "traceback": [
      "\u001b[1;31m---------------------------------------------------------------------------\u001b[0m",
      "\u001b[1;31mValueError\u001b[0m                                Traceback (most recent call last)",
      "Cell \u001b[1;32mIn[59], line 63\u001b[0m\n\u001b[0;32m     31\u001b[0m future_data \u001b[38;5;241m=\u001b[39m pd\u001b[38;5;241m.\u001b[39mDataFrame({\n\u001b[0;32m     32\u001b[0m     \u001b[38;5;124m'\u001b[39m\u001b[38;5;124mopen\u001b[39m\u001b[38;5;124m'\u001b[39m: [\u001b[38;5;241m4150.00\u001b[39m],\n\u001b[0;32m     33\u001b[0m     \u001b[38;5;124m'\u001b[39m\u001b[38;5;124mhigh\u001b[39m\u001b[38;5;124m'\u001b[39m: [\u001b[38;5;241m4180.00\u001b[39m],\n\u001b[1;32m   (...)\u001b[0m\n\u001b[0;32m     59\u001b[0m     \u001b[38;5;124m'\u001b[39m\u001b[38;5;124mprev_month_volatility\u001b[39m\u001b[38;5;124m'\u001b[39m: [\u001b[38;5;241m0.025\u001b[39m]  \n\u001b[0;32m     60\u001b[0m })\n\u001b[0;32m     62\u001b[0m \u001b[38;5;66;03m# Making predictions on future data\u001b[39;00m\n\u001b[1;32m---> 63\u001b[0m future_data_scaled \u001b[38;5;241m=\u001b[39m \u001b[43mscaler\u001b[49m\u001b[38;5;241;43m.\u001b[39;49m\u001b[43mtransform\u001b[49m\u001b[43m(\u001b[49m\u001b[43mfuture_data\u001b[49m\u001b[43m)\u001b[49m  \u001b[38;5;66;03m# Use the scaler fit on X\u001b[39;00m\n\u001b[0;32m     64\u001b[0m future_pred_scaled \u001b[38;5;241m=\u001b[39m linear_regressor\u001b[38;5;241m.\u001b[39mpredict(future_data_scaled)\n\u001b[0;32m     66\u001b[0m \u001b[38;5;66;03m# Inverse transform the predicted price to the original scale\u001b[39;00m\n",
      "File \u001b[1;32mc:\\Programming\\Python\\Lib\\site-packages\\sklearn\\utils\\_set_output.py:295\u001b[0m, in \u001b[0;36m_wrap_method_output.<locals>.wrapped\u001b[1;34m(self, X, *args, **kwargs)\u001b[0m\n\u001b[0;32m    293\u001b[0m \u001b[38;5;129m@wraps\u001b[39m(f)\n\u001b[0;32m    294\u001b[0m \u001b[38;5;28;01mdef\u001b[39;00m \u001b[38;5;21mwrapped\u001b[39m(\u001b[38;5;28mself\u001b[39m, X, \u001b[38;5;241m*\u001b[39margs, \u001b[38;5;241m*\u001b[39m\u001b[38;5;241m*\u001b[39mkwargs):\n\u001b[1;32m--> 295\u001b[0m     data_to_wrap \u001b[38;5;241m=\u001b[39m \u001b[43mf\u001b[49m\u001b[43m(\u001b[49m\u001b[38;5;28;43mself\u001b[39;49m\u001b[43m,\u001b[49m\u001b[43m \u001b[49m\u001b[43mX\u001b[49m\u001b[43m,\u001b[49m\u001b[43m \u001b[49m\u001b[38;5;241;43m*\u001b[39;49m\u001b[43margs\u001b[49m\u001b[43m,\u001b[49m\u001b[43m \u001b[49m\u001b[38;5;241;43m*\u001b[39;49m\u001b[38;5;241;43m*\u001b[39;49m\u001b[43mkwargs\u001b[49m\u001b[43m)\u001b[49m\n\u001b[0;32m    296\u001b[0m     \u001b[38;5;28;01mif\u001b[39;00m \u001b[38;5;28misinstance\u001b[39m(data_to_wrap, \u001b[38;5;28mtuple\u001b[39m):\n\u001b[0;32m    297\u001b[0m         \u001b[38;5;66;03m# only wrap the first output for cross decomposition\u001b[39;00m\n\u001b[0;32m    298\u001b[0m         return_tuple \u001b[38;5;241m=\u001b[39m (\n\u001b[0;32m    299\u001b[0m             _wrap_data_with_container(method, data_to_wrap[\u001b[38;5;241m0\u001b[39m], X, \u001b[38;5;28mself\u001b[39m),\n\u001b[0;32m    300\u001b[0m             \u001b[38;5;241m*\u001b[39mdata_to_wrap[\u001b[38;5;241m1\u001b[39m:],\n\u001b[0;32m    301\u001b[0m         )\n",
      "File \u001b[1;32mc:\\Programming\\Python\\Lib\\site-packages\\sklearn\\preprocessing\\_data.py:534\u001b[0m, in \u001b[0;36mMinMaxScaler.transform\u001b[1;34m(self, X)\u001b[0m\n\u001b[0;32m    530\u001b[0m check_is_fitted(\u001b[38;5;28mself\u001b[39m)\n\u001b[0;32m    532\u001b[0m xp, _ \u001b[38;5;241m=\u001b[39m get_namespace(X)\n\u001b[1;32m--> 534\u001b[0m X \u001b[38;5;241m=\u001b[39m \u001b[38;5;28;43mself\u001b[39;49m\u001b[38;5;241;43m.\u001b[39;49m\u001b[43m_validate_data\u001b[49m\u001b[43m(\u001b[49m\n\u001b[0;32m    535\u001b[0m \u001b[43m    \u001b[49m\u001b[43mX\u001b[49m\u001b[43m,\u001b[49m\n\u001b[0;32m    536\u001b[0m \u001b[43m    \u001b[49m\u001b[43mcopy\u001b[49m\u001b[38;5;241;43m=\u001b[39;49m\u001b[38;5;28;43mself\u001b[39;49m\u001b[38;5;241;43m.\u001b[39;49m\u001b[43mcopy\u001b[49m\u001b[43m,\u001b[49m\n\u001b[0;32m    537\u001b[0m \u001b[43m    \u001b[49m\u001b[43mdtype\u001b[49m\u001b[38;5;241;43m=\u001b[39;49m\u001b[43m_array_api\u001b[49m\u001b[38;5;241;43m.\u001b[39;49m\u001b[43msupported_float_dtypes\u001b[49m\u001b[43m(\u001b[49m\u001b[43mxp\u001b[49m\u001b[43m)\u001b[49m\u001b[43m,\u001b[49m\n\u001b[0;32m    538\u001b[0m \u001b[43m    \u001b[49m\u001b[43mforce_all_finite\u001b[49m\u001b[38;5;241;43m=\u001b[39;49m\u001b[38;5;124;43m\"\u001b[39;49m\u001b[38;5;124;43mallow-nan\u001b[39;49m\u001b[38;5;124;43m\"\u001b[39;49m\u001b[43m,\u001b[49m\n\u001b[0;32m    539\u001b[0m \u001b[43m    \u001b[49m\u001b[43mreset\u001b[49m\u001b[38;5;241;43m=\u001b[39;49m\u001b[38;5;28;43;01mFalse\u001b[39;49;00m\u001b[43m,\u001b[49m\n\u001b[0;32m    540\u001b[0m \u001b[43m\u001b[49m\u001b[43m)\u001b[49m\n\u001b[0;32m    542\u001b[0m X \u001b[38;5;241m*\u001b[39m\u001b[38;5;241m=\u001b[39m \u001b[38;5;28mself\u001b[39m\u001b[38;5;241m.\u001b[39mscale_\n\u001b[0;32m    543\u001b[0m X \u001b[38;5;241m+\u001b[39m\u001b[38;5;241m=\u001b[39m \u001b[38;5;28mself\u001b[39m\u001b[38;5;241m.\u001b[39mmin_\n",
      "File \u001b[1;32mc:\\Programming\\Python\\Lib\\site-packages\\sklearn\\base.py:654\u001b[0m, in \u001b[0;36mBaseEstimator._validate_data\u001b[1;34m(self, X, y, reset, validate_separately, cast_to_ndarray, **check_params)\u001b[0m\n\u001b[0;32m    651\u001b[0m     out \u001b[38;5;241m=\u001b[39m X, y\n\u001b[0;32m    653\u001b[0m \u001b[38;5;28;01mif\u001b[39;00m \u001b[38;5;129;01mnot\u001b[39;00m no_val_X \u001b[38;5;129;01mand\u001b[39;00m check_params\u001b[38;5;241m.\u001b[39mget(\u001b[38;5;124m\"\u001b[39m\u001b[38;5;124mensure_2d\u001b[39m\u001b[38;5;124m\"\u001b[39m, \u001b[38;5;28;01mTrue\u001b[39;00m):\n\u001b[1;32m--> 654\u001b[0m     \u001b[38;5;28;43mself\u001b[39;49m\u001b[38;5;241;43m.\u001b[39;49m\u001b[43m_check_n_features\u001b[49m\u001b[43m(\u001b[49m\u001b[43mX\u001b[49m\u001b[43m,\u001b[49m\u001b[43m \u001b[49m\u001b[43mreset\u001b[49m\u001b[38;5;241;43m=\u001b[39;49m\u001b[43mreset\u001b[49m\u001b[43m)\u001b[49m\n\u001b[0;32m    656\u001b[0m \u001b[38;5;28;01mreturn\u001b[39;00m out\n",
      "File \u001b[1;32mc:\\Programming\\Python\\Lib\\site-packages\\sklearn\\base.py:443\u001b[0m, in \u001b[0;36mBaseEstimator._check_n_features\u001b[1;34m(self, X, reset)\u001b[0m\n\u001b[0;32m    440\u001b[0m     \u001b[38;5;28;01mreturn\u001b[39;00m\n\u001b[0;32m    442\u001b[0m \u001b[38;5;28;01mif\u001b[39;00m n_features \u001b[38;5;241m!=\u001b[39m \u001b[38;5;28mself\u001b[39m\u001b[38;5;241m.\u001b[39mn_features_in_:\n\u001b[1;32m--> 443\u001b[0m     \u001b[38;5;28;01mraise\u001b[39;00m \u001b[38;5;167;01mValueError\u001b[39;00m(\n\u001b[0;32m    444\u001b[0m         \u001b[38;5;124mf\u001b[39m\u001b[38;5;124m\"\u001b[39m\u001b[38;5;124mX has \u001b[39m\u001b[38;5;132;01m{\u001b[39;00mn_features\u001b[38;5;132;01m}\u001b[39;00m\u001b[38;5;124m features, but \u001b[39m\u001b[38;5;132;01m{\u001b[39;00m\u001b[38;5;28mself\u001b[39m\u001b[38;5;241m.\u001b[39m\u001b[38;5;18m__class__\u001b[39m\u001b[38;5;241m.\u001b[39m\u001b[38;5;18m__name__\u001b[39m\u001b[38;5;132;01m}\u001b[39;00m\u001b[38;5;124m \u001b[39m\u001b[38;5;124m\"\u001b[39m\n\u001b[0;32m    445\u001b[0m         \u001b[38;5;124mf\u001b[39m\u001b[38;5;124m\"\u001b[39m\u001b[38;5;124mis expecting \u001b[39m\u001b[38;5;132;01m{\u001b[39;00m\u001b[38;5;28mself\u001b[39m\u001b[38;5;241m.\u001b[39mn_features_in_\u001b[38;5;132;01m}\u001b[39;00m\u001b[38;5;124m features as input.\u001b[39m\u001b[38;5;124m\"\u001b[39m\n\u001b[0;32m    446\u001b[0m     )\n",
      "\u001b[1;31mValueError\u001b[0m: X has 28 features, but MinMaxScaler is expecting 1 features as input."
     ]
    }
   ],
   "source": [
    "# Load the modified dataset\n",
    "# Splitting the dataset into training and testing sets\n",
    "data = pd.read_csv('modified_file.csv')\n",
    "X = data[['open', 'high', 'low', 'close', 'volume', 'change_percent',\n",
    "          'prev_day_open', 'prev_day_high', 'prev_day_low', 'prev_day_close', 'prev_day_volume', 'prev_day_change_percent',\n",
    "          'prev_week_open', 'prev_week_high', 'prev_week_low', 'prev_week_close', 'prev_week_volume', 'prev_week_change_percent',\n",
    "          'prev_month_open', 'prev_month_high', 'prev_month_low', 'prev_month_close', 'prev_month_volume', 'prev_month_change_percent',\n",
    "          'prev_week_trend_percentage', 'prev_month_trend_percentage',\n",
    "          'prev_week_volatility', 'prev_month_volatility']]\n",
    "y = data['next_day_target']  # Target variable\n",
    "scaler = MinMaxScaler()\n",
    "X_scaled = scaler.fit_transform(X)\n",
    "y_scaled = scaler.fit_transform(y.values.reshape(-1, 1))\n",
    "X_train, X_test, y_train, y_test = train_test_split(X_scaled, y_scaled, test_size=0.2, random_state=42)\n",
    "\n",
    "# Initializing and training the Linear Regression model\n",
    "linear_regressor = LinearRegression()\n",
    "linear_regressor.fit(X_train, y_train)\n",
    "\n",
    "# Making predictions on the test set\n",
    "y_pred = linear_regressor.predict(X_test)\n",
    "\n",
    "# Evaluating the model's performance\n",
    "mse_linear_reg = mean_squared_error(y_test, y_pred)\n",
    "r2_linear_reg = r2_score(y_test, y_pred)\n",
    "print(\"Linear Regression - Mean Squared Error:\", mse_linear_reg)\n",
    "print(\"Linear Regression - R-squared:\", r2_linear_reg)\n",
    "mae_linear_reg = mean_absolute_error(y_test, y_pred)\n",
    "print(\"Linear Regression - Mean Absolute Error:\", mae_linear_reg)\n",
    "# Preparing future data for prediction\n",
    "future_data = pd.DataFrame({\n",
    "    'open': [4150.00],\n",
    "    'high': [4180.00],\n",
    "    'low': [4140.00],\n",
    "    'close': [4175.00],\n",
    "    'volume': [3500000],\n",
    "    'change_percent': [0.6],\n",
    "    'prev_day_open': [4140.00],\n",
    "    'prev_day_high': [4160.00],\n",
    "    'prev_day_low': [4135.00],\n",
    "    'prev_day_close': [4150.00],\n",
    "    'prev_day_volume': [3450000],\n",
    "    'prev_day_change_percent': [0.2],\n",
    "    'prev_week_open': [4100.00],\n",
    "    'prev_week_high': [4200.00],\n",
    "    'prev_week_low': [4080.00],\n",
    "    'prev_week_close': [4130.00],\n",
    "    'prev_week_volume': [3300000],\n",
    "    'prev_week_change_percent': [0.7],\n",
    "    'prev_month_open': [4000.00],\n",
    "    'prev_month_high': [4250.00],\n",
    "    'prev_month_low': [3950.00],\n",
    "    'prev_month_close': [4050.00],\n",
    "    'prev_month_volume': [3200000],\n",
    "    'prev_month_change_percent': [1.2],\n",
    "    'prev_week_trend_percentage': [1.09],  # Calculated: (4175.00 - 4130.00) / 4130.00 * 100\n",
    "    'prev_month_trend_percentage': [3.09],  # Calculated: (4175.00 - 4050.00) / 4050.00 * 100\n",
    "    'prev_week_volatility': [0.015],  \n",
    "    'prev_month_volatility': [0.025]  \n",
    "})\n",
    "\n",
    "# Making predictions on future data\n",
    "future_data_scaled = scaler.transform(future_data)  # Use the scaler fit on X\n",
    "future_pred_scaled = linear_regressor.predict(future_data_scaled)\n",
    "\n",
    "# Inverse transform the predicted price to the original scale\n",
    "future_pred = scaler.inverse_transform(future_pred_scaled.reshape(-1, 1))\n",
    "print(\"Linear Regression - Predicted next day stock price:\", future_pred[0][0])"
   ]
  },
  {
   "cell_type": "markdown",
   "metadata": {},
   "source": [
    "Random Forest Regressor"
   ]
  },
  {
   "cell_type": "code",
   "execution_count": 19,
   "metadata": {},
   "outputs": [
    {
     "name": "stdout",
     "output_type": "stream",
     "text": [
      "Mean Squared Error: 223.75040485435298\n",
      "R2 Score: 0.999784619706975\n",
      "Mean Absolute Error: 5.216486276639772\n"
     ]
    }
   ],
   "source": [
    "X_train, X_test, y_train, y_test = train_test_split(X_scaled, y, test_size=0.2, random_state=42)\n",
    "rff_model = RandomForestRegressor(random_state=42)\n",
    "rff_model.fit(X_train, y_train)\n",
    "y_pred = rff_model.predict(X_test)\n",
    "mse_random_forest = mean_squared_error(y_test, y_pred)\n",
    "r2_random_forest = r2_score(y_test, y_pred)\n",
    "print(\"Mean Squared Error:\", mse_random_forest)\n",
    "print(\"R2 Score:\", r2_random_forest )\n",
    "mae_random_forest = mean_absolute_error(y_test, y_pred)\n",
    "print(\"Mean Absolute Error:\", mae_random_forest)"
   ]
  },
  {
   "cell_type": "markdown",
   "metadata": {},
   "source": [
    "Chart Results"
   ]
  },
  {
   "cell_type": "code",
   "execution_count": 25,
   "metadata": {},
   "outputs": [
    {
     "data": {
      "image/png": "[encoded data removed]",
      "text/plain": [
       "<Figure size 1800x600 with 3 Axes>"
      ]
     },
     "metadata": {},
     "output_type": "display_data"
    }
   ],
   "source": [
    "import matplotlib.pyplot as plt\n",
    "import numpy as np\n",
    "# Names of models\n",
    "models = ['HistGradientBoosting', 'Linear Regression', 'Random Forest']\n",
    "\n",
    "# Mean Squared Error values\n",
    "mse_values = [mse_gradient_reg, mse_linear_reg, mse_random_forest]\n",
    "\n",
    "# R-squared values\n",
    "r2_values = [r2_gradient_reg, r2_linear_reg, r2_random_forest]\n",
    "\n",
    "# Mean Absolute Error values\n",
    "mae_values = [mae_gradient_reg, mae_linear_reg, mae_random_forest]\n",
    "\n",
    "# Set up a figure with subplots\n",
    "fig, (ax1, ax2, ax3) = plt.subplots(1, 3, figsize=(18, 6))\n",
    "\n",
    "# Plotting the Mean Squared Error\n",
    "ax1.bar(models, mse_values, color='blue')\n",
    "ax1.set_xlabel('Models')\n",
    "ax1.set_ylabel('Mean Squared Error')\n",
    "ax1.set_title('Mean Squared Error of Different Models')\n",
    "\n",
    "# Plotting the R-squared values\n",
    "ax2.bar(models, r2_values, color='green')\n",
    "ax2.set_xlabel('Models')\n",
    "ax2.set_ylabel('R-squared')\n",
    "ax2.set_title('R-squared of Different Models')\n",
    "\n",
    "# Plotting the Mean Absolute Error\n",
    "ax3.bar(models, mae_values, color='orange')\n",
    "ax3.set_xlabel('Models')\n",
    "ax3.set_ylabel('Mean Absolute Error')\n",
    "ax3.set_title('Mean Absolute Error of Different Models')\n",
    "\n",
    "# Adjust the spacing between subplots\n",
    "plt.tight_layout()\n",
    "\n",
    "# Display the plot\n",
    "plt.show()\n",
    "\n"
   ]
  }
 ],
 "metadata": {
  "kernelspec": {
   "display_name": "Python 3",
   "language": "python",
   "name": "python3"
  },
  "language_info": {
   "codemirror_mode": {
    "name": "ipython",
    "version": 3
   },
   "file_extension": ".py",
   "mimetype": "text/x-python",
   "name": "python",
   "nbconvert_exporter": "python",
   "pygments_lexer": "ipython3",
   "version": "3.12.3"
  }
 },
 "nbformat": 4,
 "nbformat_minor": 2
}
