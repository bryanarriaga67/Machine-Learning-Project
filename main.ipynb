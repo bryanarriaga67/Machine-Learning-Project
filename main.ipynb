{
 "cells": [
  {
   "cell_type": "code",
   "execution_count": 1,
   "metadata": {},
   "outputs": [],
   "source": [
    "import pandas as pd\n",
    "from sklearn.ensemble import RandomForestRegressor\n",
    "from sklearn.model_selection import train_test_split\n",
    "from sklearn.metrics import mean_squared_error, r2_score\n",
    "from sklearn.ensemble import HistGradientBoostingRegressor\n",
    "import numpy as np"
   ]
  },
  {
   "cell_type": "code",
   "execution_count": 2,
   "metadata": {},
   "outputs": [],
   "source": [
    "def load_datasets():\n",
    "    nasdaq_data = pd.read_csv(\"datasets/NASDAQ_100.csv\")\n",
    "    QQQ_data = pd.read_csv(\"datasets/QQQ_raw.csv\")\n",
    "    QQQ_split_data = pd.read_csv(\"datasets/QQQ_split_adj.csv\")\n",
    "    SPY500_data = pd.read_csv(\"datasets/SP500.csv\")\n",
    "    SPY_data = pd.read_csv(\"datasets/SPY.csv\")"
   ]
  },
  {
   "cell_type": "markdown",
   "metadata": {},
   "source": [
    "Predicting close"
   ]
  },
  {
   "cell_type": "code",
   "execution_count": 3,
   "metadata": {},
   "outputs": [
    {
     "name": "stdout",
     "output_type": "stream",
     "text": [
      "Mean Squared Error: 1.8139333254779888\n",
      "R-squared: 0.999855479349169\n",
      "Predicted future stock price: [403.11350685]\n"
     ]
    }
   ],
   "source": [
    "data = pd.read_csv('datasets/SPY.csv')\n",
    "\n",
    "# Prepare the data\n",
    "X = data[['open', 'high', 'low', 'volume', 'change_percent', ]]  # Features\n",
    "y = data['close']  # Target variable\n",
    "\n",
    "# Split the data into training and testing sets\n",
    "X_train, X_test, y_train, y_test = train_test_split(X, y, test_size=0.2, random_state=42)\n",
    "\n",
    "# Create a Random Forest Regressor\n",
    "hgb_regressor = HistGradientBoostingRegressor(random_state=42)\n",
    "\n",
    "# Train the model\n",
    "hgb_regressor.fit(X_train, y_train)\n",
    "\n",
    "# Make predictions on the test set\n",
    "y_pred = hgb_regressor.predict(X_test)\n",
    "\n",
    "# Evaluate the model\n",
    "mse = mean_squared_error(y_test, y_pred)\n",
    "r2 = r2_score(y_test, y_pred)\n",
    "\n",
    "print(\"Mean Squared Error:\", mse)\n",
    "print(\"R-squared:\", r2)\n",
    "\n",
    "# Make predictions for future stock prices\n",
    "future_data = pd.DataFrame({\n",
    "    'open': [400.0],\n",
    "    'high': [410.0],\n",
    "    'low': [395.0],\n",
    "    'volume': [1000000],\n",
    "    'change_percent': [0.5]\n",
    "})\n",
    "\n",
    "future_pred = hgb_regressor.predict(future_data)\n",
    "\n",
    "print(\"Predicted future stock price:\", future_pred)"
   ]
  },
  {
   "cell_type": "markdown",
   "metadata": {},
   "source": [
    "Predicting next day"
   ]
  },
  {
   "cell_type": "code",
   "execution_count": 23,
   "metadata": {},
   "outputs": [
    {
     "name": "stdout",
     "output_type": "stream",
     "text": [
      "Mean Squared Error: 6.910771928764279\n",
      "R-squared: 0.9994469695166158\n",
      "Predicted next day stock price: [408.20035679]\n"
     ]
    }
   ],
   "source": [
    "\n",
    "\n",
    "df = pd.read_csv('datasets/SPY.csv')\n",
    "\n",
    "\n",
    "\n",
    "\n",
    "# Create new columns for previous day's features\n",
    "prev_day_columns = ['open', 'high', 'low', 'close', 'volume', 'change_percent']\n",
    "for column in prev_day_columns:\n",
    "    df[f'prev_day_{column}'] = df[column].shift(1)\n",
    "\n",
    "# Create new columns for previous week's features\n",
    "prev_week_columns = ['open', 'high', 'low', 'close', 'volume', 'change_percent']\n",
    "for column in prev_week_columns:\n",
    "    df[f'prev_week_{column}'] = df[column].shift(5)\n",
    "\n",
    "# Create new columns for previous month's features\n",
    "prev_month_columns = ['open', 'high', 'low', 'close', 'volume', 'change_percent']\n",
    "for column in prev_month_columns:\n",
    "    df[f'prev_month_{column}'] = df[column].shift(21)  # Assuming 21 trading days in a month\n",
    "\n",
    "# Calculate trend percentage for previous week and previous month\n",
    "df['prev_week_trend_percentage'] = (df['close'] - df['prev_week_close']) / df['prev_week_close'] * 100\n",
    "df['prev_month_trend_percentage'] = (df['close'] - df['prev_month_close']) / df['prev_month_close'] * 100\n",
    "\n",
    "\n",
    "target_column = 4\n",
    "\n",
    "# Shift the target column by -1 to get the next row's value\n",
    "df['next_day_target'] = df.iloc[:, target_column].shift(-1)\n",
    "df = df.dropna()\n",
    "\n",
    "# Save the modified DataFrame back to a CSV file\n",
    "df.to_csv('modified_file.csv', index=False)\n",
    "\n",
    "data = pd.read_csv('modified_file.csv')\n",
    "\n",
    "# Features\n",
    "X = data[['open', 'high', 'low', 'close', 'volume', 'change_percent',\n",
    "          'prev_day_open', 'prev_day_high', 'prev_day_low', 'prev_day_close', 'prev_day_volume', 'prev_day_change_percent',\n",
    "          'prev_week_open', 'prev_week_high', 'prev_week_low', 'prev_week_close', 'prev_week_volume', 'prev_week_change_percent',\n",
    "          'prev_month_open', 'prev_month_high', 'prev_month_low', 'prev_month_close', 'prev_month_volume', 'prev_month_change_percent',\n",
    "          'prev_week_trend_percentage', 'prev_month_trend_percentage']]\n",
    "y = data['next_day_target']  # Target variable\n",
    "\n",
    "X_train, X_test, y_train, y_test = train_test_split(X, y, test_size=0.2, random_state=42)\n",
    "\n",
    "hgb_regressor = HistGradientBoostingRegressor(random_state=42)\n",
    "hgb_regressor.fit(X_train, y_train)  # Train the model\n",
    "\n",
    "y_pred = hgb_regressor.predict(X_test)  # Make predictions on the test set\n",
    "\n",
    "mse = mean_squared_error(y_test, y_pred)\n",
    "r2 = r2_score(y_test, y_pred)\n",
    "print(\"Mean Squared Error:\", mse)\n",
    "print(\"R-squared:\", r2)\n",
    "\n",
    "future_data = pd.DataFrame({\n",
    "    'open': [400.0],\n",
    "    'high': [410.0],\n",
    "    'low': [395.0],\n",
    "    'close': [408.0],\n",
    "    'volume': [1000000],\n",
    "    'change_percent': [0.5],\n",
    "    'prev_day_open': [399.0],\n",
    "    'prev_day_high': [401.0],\n",
    "    'prev_day_low': [397.0],\n",
    "    'prev_day_close': [400.0],\n",
    "    'prev_day_volume': [950000],\n",
    "    'prev_day_change_percent': [0.3],\n",
    "    'prev_week_open': [395.0],\n",
    "    'prev_week_high': [402.0],\n",
    "    'prev_week_low': [393.0],\n",
    "    'prev_week_close': [398.0],\n",
    "    'prev_week_volume': [900000],\n",
    "    'prev_week_change_percent': [0.2],\n",
    "    'prev_month_open': [380.0],\n",
    "    'prev_month_high': [415.0],\n",
    "    'prev_month_low': [375.0],\n",
    "    'prev_month_close': [390.0],\n",
    "    'prev_month_volume': [800000],\n",
    "    'prev_month_change_percent': [1.0],\n",
    "    'prev_week_trend_percentage': [2.5],\n",
    "    'prev_month_trend_percentage': [4.6]\n",
    "})\n",
    "\n",
    "future_pred = hgb_regressor.predict(future_data)\n",
    "print(\"Predicted next day stock price:\", future_pred)"
   ]
  }
 ],
 "metadata": {
  "kernelspec": {
   "display_name": "Python 3",
   "language": "python",
   "name": "python3"
  },
  "language_info": {
   "codemirror_mode": {
    "name": "ipython",
    "version": 3
   },
   "file_extension": ".py",
   "mimetype": "text/x-python",
   "name": "python",
   "nbconvert_exporter": "python",
   "pygments_lexer": "ipython3",
   "version": "3.11.5"
  }
 },
 "nbformat": 4,
 "nbformat_minor": 2
}
