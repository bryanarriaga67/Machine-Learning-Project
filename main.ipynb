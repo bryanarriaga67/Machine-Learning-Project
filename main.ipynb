{
 "cells": [
  {
   "cell_type": "markdown",
   "metadata": {},
   "source": [
    "Imports"
   ]
  },
  {
   "cell_type": "code",
   "execution_count": 48,
   "metadata": {},
   "outputs": [],
   "source": [
    "import pandas as pd\n",
    "from sklearn.ensemble import RandomForestRegressor\n",
    "from sklearn.model_selection import train_test_split\n",
    "from sklearn.metrics import mean_squared_error, r2_score\n",
    "from sklearn.linear_model import LinearRegression\n",
    "from sklearn.ensemble import HistGradientBoostingRegressor\n",
    "from sklearn.preprocessing import MinMaxScaler\n",
    "import numpy as np\n",
    "import matplotlib as plt\n",
    "from matplotlib import pyplot\n",
    "from sklearn.metrics import mean_absolute_error\n",
    "from matplotlib import figure\n"
   ]
  },
  {
   "cell_type": "markdown",
   "metadata": {},
   "source": [
    "Modify CSV for more features"
   ]
  },
  {
   "cell_type": "code",
   "execution_count": 41,
   "metadata": {},
   "outputs": [],
   "source": [
    "df = pd.read_csv('datasets/SP500.csv')\n",
    "target_column = 4\n",
    "\n",
    "# Shift the target column by -1 to get the next row's value\n",
    "df['next_day_target'] = df.iloc[:, target_column].shift(-1)\n",
    "\n",
    "# Create new columns for previous day's features\n",
    "prev_day_columns = ['open', 'high', 'low', 'close', 'volume', 'change_percent']\n",
    "for column in prev_day_columns:\n",
    "    df[f'prev_day_{column}'] = df[column].shift(1)\n",
    "\n",
    "# Create new columns for previous week's features\n",
    "prev_week_columns = ['open', 'high', 'low', 'close', 'volume', 'change_percent']\n",
    "for column in prev_week_columns:\n",
    "    df[f'prev_week_{column}'] = df[column].shift(5)\n",
    "\n",
    "# Create new columns for previous month's features\n",
    "prev_month_columns = ['open', 'high', 'low', 'close', 'volume', 'change_percent']\n",
    "for column in prev_month_columns:\n",
    "    df[f'prev_month_{column}'] = df[column].shift(21)  # Assuming 21 trading days in a month\n",
    "\n",
    "# Calculate trend percentage for previous week and previous month\n",
    "df['prev_week_trend_percentage'] = (df['close'] - df['prev_week_close']) / df['prev_week_close'] * 100\n",
    "df['prev_month_trend_percentage'] = (df['close'] - df['prev_month_close']) / df['prev_month_close'] * 100\n",
    "\n",
    "# Calculate previous week's volatility\n",
    "df['returns'] = df['close'].pct_change()\n",
    "df['prev_week_volatility'] = df['returns'].rolling(window=5).std()\n",
    "\n",
    "# Calculate previous month's volatility\n",
    "df['prev_month_volatility'] = df['returns'].rolling(window=21).std()\n",
    "\n",
    "# Drop rows with missing values\n",
    "df = df.dropna()\n",
    "\n",
    "# Save the modified DataFrame back to a CSV file\n",
    "df.to_csv('modified_file.csv', index=False)"
   ]
  },
  {
   "cell_type": "markdown",
   "metadata": {},
   "source": [
    "Read modified file"
   ]
  },
  {
   "cell_type": "code",
   "execution_count": 42,
   "metadata": {},
   "outputs": [],
   "source": [
    "# Read data\n",
    "data = pd.read_csv('modified_file.csv')\n",
    "X = data[['open', 'high', 'low', 'close', 'volume', 'change_percent',\n",
    "          'prev_day_open', 'prev_day_high', 'prev_day_low', 'prev_day_close', 'prev_day_volume', 'prev_day_change_percent',\n",
    "          'prev_week_open', 'prev_week_high', 'prev_week_low', 'prev_week_close', 'prev_week_volume', 'prev_week_change_percent',\n",
    "          'prev_month_open', 'prev_month_high', 'prev_month_low', 'prev_month_close', 'prev_month_volume', 'prev_month_change_percent',\n",
    "          'prev_week_trend_percentage', 'prev_month_trend_percentage',\n",
    "          'prev_week_volatility', 'prev_month_volatility']]\n",
    "y = data['next_day_target']  # Target variable\n",
    "scaler = MinMaxScaler()\n",
    "X_scaled = scaler.fit_transform(X)"
   ]
  },
  {
   "cell_type": "markdown",
   "metadata": {},
   "source": [
    "Predicting next day with HistGradientBoostingRegressor"
   ]
  },
  {
   "cell_type": "code",
   "execution_count": 43,
   "metadata": {},
   "outputs": [
    {
     "name": "stdout",
     "output_type": "stream",
     "text": [
      "Mean Squared Error: 307.12031925237704\n",
      "R-squared: 0.9997043685154555\n",
      "Mean Absolute Error: 6.581123818806242\n",
      "Predicted next day stock price: [5000.76050567]\n"
     ]
    },
    {
     "name": "stderr",
     "output_type": "stream",
     "text": [
      "c:\\Users\\Brandon\\AppData\\Local\\Programs\\Python\\Python312\\Lib\\site-packages\\sklearn\\base.py:486: UserWarning: X has feature names, but HistGradientBoostingRegressor was fitted without feature names\n",
      "  warnings.warn(\n"
     ]
    }
   ],
   "source": [
    "\n",
    "\n",
    "X_train, X_test, y_train, y_test = train_test_split(X_scaled, y, test_size=0.2, random_state=42)\n",
    "\n",
    "hgb_regressor = HistGradientBoostingRegressor(random_state=42)\n",
    "hgb_regressor.fit(X_train, y_train)  # Train the model\n",
    "\n",
    "y_pred = hgb_regressor.predict(X_test)  # Make predictions on the test set\n",
    "\n",
    "mse_gradient_reg = mean_squared_error(y_test, y_pred)\n",
    "r2_gradient_reg = r2_score(y_test, y_pred)\n",
    "print(\"Mean Squared Error:\", mse_gradient_reg)\n",
    "print(\"R-squared:\", r2_gradient_reg)\n",
    "mae_gradient_reg = mean_absolute_error(y_test, y_pred)\n",
    "print(\"Mean Absolute Error:\", mae_gradient_reg)\n",
    "\n",
    "future_data = pd.DataFrame({\n",
    "    'open': [4150.00],\n",
    "    'high': [4180.00],\n",
    "    'low': [4140.00],\n",
    "    'close': [4175.00],\n",
    "    'volume': [3500000],\n",
    "    'change_percent': [0.6],\n",
    "    'prev_day_open': [4140.00],\n",
    "    'prev_day_high': [4160.00],\n",
    "    'prev_day_low': [4135.00],\n",
    "    'prev_day_close': [4150.00],\n",
    "    'prev_day_volume': [3450000],\n",
    "    'prev_day_change_percent': [0.2],\n",
    "    'prev_week_open': [4100.00],\n",
    "    'prev_week_high': [4200.00],\n",
    "    'prev_week_low': [4080.00],\n",
    "    'prev_week_close': [4130.00],\n",
    "    'prev_week_volume': [3300000],\n",
    "    'prev_week_change_percent': [0.7],\n",
    "    'prev_month_open': [4000.00],\n",
    "    'prev_month_high': [4250.00],\n",
    "    'prev_month_low': [3950.00],\n",
    "    'prev_month_close': [4050.00],\n",
    "    'prev_month_volume': [3200000],\n",
    "    'prev_month_change_percent': [1.2],\n",
    "    'prev_week_trend_percentage': [1.09],  # Calculated: (4175.00 - 4130.00) / 4130.00 * 100\n",
    "    'prev_month_trend_percentage': [3.09],  # Calculated: (4175.00 - 4050.00) / 4050.00 * 100\n",
    "    'prev_week_volatility': [0.015],  # Placeholder value, replace with actual volatility if available\n",
    "    'prev_month_volatility': [0.025]  # Placeholder value, replace with actual volatility if available\n",
    "})\n",
    "\n",
    "future_pred = hgb_regressor.predict(future_data)\n",
    "print(\"Predicted next day stock price:\", future_pred)"
   ]
  },
  {
   "cell_type": "code",
   "execution_count": 44,
   "metadata": {},
   "outputs": [
    {
     "name": "stdout",
     "output_type": "stream",
     "text": [
      "Linear Regression - Mean Squared Error: 201.06776195662408\n",
      "Linear Regression - R-squared: 0.9998064538318208\n",
      "Linear Regression - Mean Absolute Error: 4.874234628658238\n",
      "Linear Regression - Predicted next day stock price: [4321760.24121752]\n"
     ]
    },
    {
     "name": "stderr",
     "output_type": "stream",
     "text": [
      "c:\\Users\\Brandon\\AppData\\Local\\Programs\\Python\\Python312\\Lib\\site-packages\\sklearn\\base.py:486: UserWarning: X has feature names, but LinearRegression was fitted without feature names\n",
      "  warnings.warn(\n"
     ]
    }
   ],
   "source": [
    "# Load the modified dataset\n",
    "\n",
    "# Splitting the dataset into training and testing sets\n",
    "X_train, X_test, y_train, y_test = train_test_split(X_scaled, y, test_size=0.2, random_state=42)\n",
    "\n",
    "# Initializing and training the Linear Regression model\n",
    "linear_regressor = LinearRegression()\n",
    "linear_regressor.fit(X_train, y_train)\n",
    "\n",
    "# Making predictions on the test set\n",
    "y_pred = linear_regressor.predict(X_test)\n",
    "\n",
    "# Evaluating the model's performance\n",
    "mse_linear_reg = mean_squared_error(y_test, y_pred)\n",
    "r2_linear_reg = r2_score(y_test, y_pred)\n",
    "print(\"Linear Regression - Mean Squared Error:\", mse_linear_reg)\n",
    "print(\"Linear Regression - R-squared:\", r2_linear_reg)\n",
    "mae_linear_reg = mean_absolute_error(y_test, y_pred)\n",
    "print(\"Linear Regression - Mean Absolute Error:\", mae_linear_reg)\n",
    "# Preparing future data for prediction\n",
    "future_data = pd.DataFrame({\n",
    "    'open': [400.0],\n",
    "    'high': [410.0],\n",
    "    'low': [395.0],\n",
    "    'close': [408.0],\n",
    "    'volume': [1000000],\n",
    "    'change_percent': [0.5],\n",
    "    'prev_day_open': [399.0],\n",
    "    'prev_day_high': [401.0],\n",
    "    'prev_day_low': [397.0],\n",
    "    'prev_day_close': [400.0],\n",
    "    'prev_day_volume': [950000],\n",
    "    'prev_day_change_percent': [0.3],\n",
    "    'prev_week_open': [395.0],\n",
    "    'prev_week_high': [402.0],\n",
    "    'prev_week_low': [393.0],\n",
    "    'prev_week_close': [398.0],\n",
    "    'prev_week_volume': [900000],\n",
    "    'prev_week_change_percent': [0.2],\n",
    "    'prev_month_open': [380.0],\n",
    "    'prev_month_high': [415.0],\n",
    "    'prev_month_low': [375.0],\n",
    "    'prev_month_close': [390.0],\n",
    "    'prev_month_volume': [800000],\n",
    "    'prev_month_change_percent': [1.0],\n",
    "    'prev_week_trend_percentage': [2.5],\n",
    "    'prev_month_trend_percentage': [4.6],\n",
    "    'prev_week_volatility': [0.02],\n",
    "    'prev_month_volatility': [0.03]\n",
    "})\n",
    "\n",
    "# Making predictions on future data\n",
    "future_pred = linear_regressor.predict(future_data)\n",
    "print(\"Linear Regression - Predicted next day stock price:\", future_pred)\n",
    "#New comment lol"
   ]
  },
  {
   "cell_type": "markdown",
   "metadata": {},
   "source": [
    "Random Forest Regressor"
   ]
  },
  {
   "cell_type": "code",
   "execution_count": 45,
   "metadata": {},
   "outputs": [
    {
     "name": "stdout",
     "output_type": "stream",
     "text": [
      "Mean Squared Error: 223.75040485435298\n",
      "R2 Score: 0.999784619706975\n",
      "Mean Absolute Error: 5.216486276639772\n"
     ]
    }
   ],
   "source": [
    "X_train, X_test, y_train, y_test = train_test_split(X_scaled, y, test_size=0.2, random_state=42)\n",
    "rff_model = RandomForestRegressor(random_state=42)\n",
    "rff_model.fit(X_train, y_train)\n",
    "y_pred = rff_model.predict(X_test)\n",
    "mse_random_forest = mean_squared_error(y_test, y_pred)\n",
    "r2_random_forest = r2_score(y_test, y_pred)\n",
    "print(\"Mean Squared Error:\", mse_random_forest)\n",
    "print(\"R2 Score:\", r2_random_forest )\n",
    "mae_random_forest = mean_absolute_error(y_test, y_pred)\n",
    "print(\"Mean Absolute Error:\", mae_random_forest)"
   ]
  },
  {
   "cell_type": "markdown",
   "metadata": {},
   "source": [
    "Chart Results"
   ]
  },
  {
   "cell_type": "code",
   "execution_count": 47,
   "metadata": {},
   "outputs": [
    {
     "ename": "TypeError",
     "evalue": "'module' object is not callable",
     "output_type": "error",
     "traceback": [
      "\u001b[1;31m---------------------------------------------------------------------------\u001b[0m",
      "\u001b[1;31mTypeError\u001b[0m                                 Traceback (most recent call last)",
      "Cell \u001b[1;32mIn[47], line 13\u001b[0m\n\u001b[0;32m     10\u001b[0m mae_values \u001b[38;5;241m=\u001b[39m [mae_gradient_reg, mae_linear_reg, mae_random_forest]\n\u001b[0;32m     12\u001b[0m \u001b[38;5;66;03m# Plotting the Mean Squared Error\u001b[39;00m\n\u001b[1;32m---> 13\u001b[0m \u001b[43mplt\u001b[49m\u001b[38;5;241;43m.\u001b[39;49m\u001b[43mfigure\u001b[49m\u001b[43m(\u001b[49m\u001b[43mfigsize\u001b[49m\u001b[38;5;241;43m=\u001b[39;49m\u001b[43m(\u001b[49m\u001b[38;5;241;43m10\u001b[39;49m\u001b[43m,\u001b[49m\u001b[43m \u001b[49m\u001b[38;5;241;43m6\u001b[39;49m\u001b[43m)\u001b[49m\u001b[43m)\u001b[49m\n\u001b[0;32m     14\u001b[0m plt\u001b[38;5;241m.\u001b[39mbar(models, mse_values, color\u001b[38;5;241m=\u001b[39m\u001b[38;5;124m'\u001b[39m\u001b[38;5;124mblue\u001b[39m\u001b[38;5;124m'\u001b[39m)\n\u001b[0;32m     15\u001b[0m plt\u001b[38;5;241m.\u001b[39mxlabel(\u001b[38;5;124m'\u001b[39m\u001b[38;5;124mModels\u001b[39m\u001b[38;5;124m'\u001b[39m)\n",
      "\u001b[1;31mTypeError\u001b[0m: 'module' object is not callable"
     ]
    }
   ],
   "source": [
    "# Names of models\n",
    "models = ['HistGradientBoosting', 'Linear Regression', 'Random Forest']\n",
    "\n",
    "# Mean Squared Error values\n",
    "mse_values = [mse_gradient_reg, mse_linear_reg, mse_random_forest]\n",
    "\n",
    "# R-squared values\n",
    "r2_values = [r2_gradient_reg, r2_linear_reg, r2_random_forest]\n",
    "\n",
    "mae_values = [mae_gradient_reg, mae_linear_reg, mae_random_forest]\n",
    "\n",
    "# Plotting the Mean Squared Error\n",
    "plt.figure(figsize=(10, 6))\n",
    "plt.bar(models, mse_values, color='blue')\n",
    "plt.xlabel('Models')\n",
    "plt.ylabel('Mean Squared Error')\n",
    "plt.title('Mean Squared Error of Different Models')\n",
    "plt.show()\n",
    "\n",
    "# Plotting the R-squared values\n",
    "plt.figure(figsize=(10, 6))\n",
    "plt.bar(models, r2_values, color='green')\n",
    "plt.xlabel('Models')\n",
    "plt.ylabel('R-squared')\n",
    "plt.title('R-squared of Different Models')\n",
    "plt.show()\n",
    "\n",
    "plt.figure(figsize=(10, 6))\n",
    "plt.bar(models, mae_values, color='orange')\n",
    "plt.xlabel('Models')\n",
    "plt.ylabel('Mean Absolute Error')\n",
    "plt.title('Mean Absolute Error of Different Models')\n",
    "plt.show()\n",
    "\n",
    "importances = rff_model.feature_importances_\n",
    "\n",
    "# Get the feature names\n",
    "feature_names = X.columns\n",
    "\n",
    "# Sort the feature importances in descending order\n",
    "indices = np.argsort(importances)[::-1]\n",
    "\n",
    "plt.figure(figsize=(10, 6))\n",
    "plt.title(\"Feature Importances\")\n",
    "plt.bar(range(X.shape[1]), importances[indices])\n",
    "plt.xticks(range(X.shape[1]), feature_names[indices], rotation=90)\n",
    "plt.xlabel(\"Features\")\n",
    "plt.ylabel(\"Importance\")\n",
    "plt.tight_layout()\n",
    "plt.show()"
   ]
  }
 ],
 "metadata": {
  "kernelspec": {
   "display_name": "Python 3",
   "language": "python",
   "name": "python3"
  },
  "language_info": {
   "codemirror_mode": {
    "name": "ipython",
    "version": 3
   },
   "file_extension": ".py",
   "mimetype": "text/x-python",
   "name": "python",
   "nbconvert_exporter": "python",
   "pygments_lexer": "ipython3",
   "version": "3.12.3"
  }
 },
 "nbformat": 4,
 "nbformat_minor": 2
}
