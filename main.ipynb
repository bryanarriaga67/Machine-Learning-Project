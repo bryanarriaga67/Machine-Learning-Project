{
 "cells": [
  {
   "cell_type": "markdown",
   "metadata": {},
   "source": [
    "Imports"
   ]
  },
  {
   "cell_type": "code",
   "execution_count": 7,
   "metadata": {},
   "outputs": [],
   "source": [
    "import pandas as pd\n",
    "from sklearn.ensemble import RandomForestRegressor\n",
    "from sklearn.model_selection import train_test_split\n",
    "from sklearn.metrics import mean_squared_error, r2_score\n",
    "from sklearn.ensemble import HistGradientBoostingRegressor\n",
    "import numpy as np"
   ]
  },
  {
   "cell_type": "markdown",
   "metadata": {},
   "source": [
    "Modify CSV for more features"
   ]
  },
  {
   "cell_type": "code",
   "execution_count": 8,
   "metadata": {},
   "outputs": [],
   "source": [
    "df = pd.read_csv('datasets/SP500.csv')\n",
    "target_column = 4\n",
    "\n",
    "# Shift the target column by -1 to get the next row's value\n",
    "df['next_day_target'] = df.iloc[:, target_column].shift(-1)\n",
    "\n",
    "# Create new columns for previous day's features\n",
    "prev_day_columns = ['open', 'high', 'low', 'close', 'volume', 'change_percent']\n",
    "for column in prev_day_columns:\n",
    "    df[f'prev_day_{column}'] = df[column].shift(1)\n",
    "\n",
    "# Create new columns for previous week's features\n",
    "prev_week_columns = ['open', 'high', 'low', 'close', 'volume', 'change_percent']\n",
    "for column in prev_week_columns:\n",
    "    df[f'prev_week_{column}'] = df[column].shift(5)\n",
    "\n",
    "# Create new columns for previous month's features\n",
    "prev_month_columns = ['open', 'high', 'low', 'close', 'volume', 'change_percent']\n",
    "for column in prev_month_columns:\n",
    "    df[f'prev_month_{column}'] = df[column].shift(21)  # Assuming 21 trading days in a month\n",
    "\n",
    "# Calculate trend percentage for previous week and previous month\n",
    "df['prev_week_trend_percentage'] = (df['close'] - df['prev_week_close']) / df['prev_week_close'] * 100\n",
    "df['prev_month_trend_percentage'] = (df['close'] - df['prev_month_close']) / df['prev_month_close'] * 100\n",
    "\n",
    "# Calculate previous week's volatility\n",
    "df['returns'] = df['close'].pct_change()\n",
    "df['prev_week_volatility'] = df['returns'].rolling(window=5).std()\n",
    "\n",
    "# Calculate previous month's volatility\n",
    "df['prev_month_volatility'] = df['returns'].rolling(window=21).std()\n",
    "\n",
    "# Drop rows with missing values\n",
    "df = df.dropna()\n",
    "\n",
    "# Save the modified DataFrame back to a CSV file\n",
    "df.to_csv('modified_file.csv', index=False)"
   ]
  },
  {
   "cell_type": "markdown",
   "metadata": {},
   "source": [
    "Read modified file"
   ]
  },
  {
   "cell_type": "code",
   "execution_count": 4,
   "metadata": {},
   "outputs": [],
   "source": [
    "# Read data\n",
    "data = pd.read_csv('modified_file.csv')\n",
    "X = data[['open', 'high', 'low', 'close', 'volume', 'change_percent',\n",
    "          'prev_day_open', 'prev_day_high', 'prev_day_low', 'prev_day_close', 'prev_day_volume', 'prev_day_change_percent',\n",
    "          'prev_week_open', 'prev_week_high', 'prev_week_low', 'prev_week_close', 'prev_week_volume', 'prev_week_change_percent',\n",
    "          'prev_month_open', 'prev_month_high', 'prev_month_low', 'prev_month_close', 'prev_month_volume', 'prev_month_change_percent',\n",
    "          'prev_week_trend_percentage', 'prev_month_trend_percentage',\n",
    "          'prev_week_volatility', 'prev_month_volatility']]\n",
    "y = data['next_day_target']  # Target variable"
   ]
  },
  {
   "cell_type": "markdown",
   "metadata": {},
   "source": [
    "Predicting next day with HistGradientBoostingRegressor"
   ]
  },
  {
   "cell_type": "code",
   "execution_count": 5,
   "metadata": {},
   "outputs": [
    {
     "name": "stdout",
     "output_type": "stream",
     "text": [
      "Mean Squared Error: 307.12031925237704\n",
      "R-squared: 0.9997043685154555\n",
      "Predicted next day stock price: [399.86461342]\n"
     ]
    }
   ],
   "source": [
    "\n",
    "# Assuming the target column is at index 4 (5th column)\n",
    "\n",
    "# Features\n",
    "\n",
    "\n",
    "X_train, X_test, y_train, y_test = train_test_split(X, y, test_size=0.2, random_state=42)\n",
    "\n",
    "hgb_regressor = HistGradientBoostingRegressor(random_state=42)\n",
    "hgb_regressor.fit(X_train, y_train)  # Train the model\n",
    "\n",
    "y_pred = hgb_regressor.predict(X_test)  # Make predictions on the test set\n",
    "\n",
    "mse = mean_squared_error(y_test, y_pred)\n",
    "r2 = r2_score(y_test, y_pred)\n",
    "print(\"Mean Squared Error:\", mse)\n",
    "print(\"R-squared:\", r2)\n",
    "\n",
    "future_data = pd.DataFrame({\n",
    "    'open': [400.0],\n",
    "    'high': [410.0],\n",
    "    'low': [395.0],\n",
    "    'close': [408.0],\n",
    "    'volume': [1000000],\n",
    "    'change_percent': [0.5],\n",
    "    'prev_day_open': [399.0],\n",
    "    'prev_day_high': [401.0],\n",
    "    'prev_day_low': [397.0], \n",
    "    'prev_day_close': [400.0],\n",
    "    'prev_day_volume': [950000],\n",
    "    'prev_day_change_percent': [0.3],\n",
    "    'prev_week_open': [395.0],\n",
    "    'prev_week_high': [402.0],\n",
    "    'prev_week_low': [393.0],\n",
    "    'prev_week_close': [398.0],\n",
    "    'prev_week_volume': [900000],\n",
    "    'prev_week_change_percent': [0.2],\n",
    "    'prev_month_open': [380.0],\n",
    "    'prev_month_high': [415.0],\n",
    "    'prev_month_low': [375.0],\n",
    "    'prev_month_close': [390.0],\n",
    "    'prev_month_volume': [800000],\n",
    "    'prev_month_change_percent': [1.0],\n",
    "    'prev_week_trend_percentage': [2.5],\n",
    "    'prev_month_trend_percentage': [4.6],\n",
    "    'prev_week_volatility': [0.02],\n",
    "    'prev_month_volatility': [0.03]\n",
    "})\n",
    "\n",
    "future_pred = hgb_regressor.predict(future_data)\n",
    "print(\"Predicted next day stock price:\", future_pred)"
   ]
  },
  {
   "cell_type": "code",
   "execution_count": null,
   "metadata": {},
   "outputs": [],
   "source": []
  }
 ],
 "metadata": {
  "kernelspec": {
   "display_name": "Python 3",
   "language": "python",
   "name": "python3"
  },
  "language_info": {
   "codemirror_mode": {
    "name": "ipython",
    "version": 3
   },
   "file_extension": ".py",
   "mimetype": "text/x-python",
   "name": "python",
   "nbconvert_exporter": "python",
   "pygments_lexer": "ipython3",
   "version": "3.12.3"
  }
 },
 "nbformat": 4,
 "nbformat_minor": 2
}
