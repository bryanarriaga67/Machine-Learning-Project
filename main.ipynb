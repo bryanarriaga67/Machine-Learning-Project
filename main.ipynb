{
 "cells": [
  {
   "cell_type": "code",
   "execution_count": 1,
   "metadata": {},
   "outputs": [],
   "source": [
    "import pandas as pd\n",
    "from sklearn.ensemble import RandomForestRegressor\n",
    "from sklearn.model_selection import train_test_split\n",
    "from sklearn.metrics import mean_squared_error, r2_score\n",
    "from sklearn.ensemble import HistGradientBoostingRegressor\n",
    "import numpy as np"
   ]
  },
  {
   "cell_type": "code",
   "execution_count": 2,
   "metadata": {},
   "outputs": [],
   "source": [
    "def load_datasets():\n",
    "    nasdaq_data = pd.read_csv(\"datasets/NASDAQ_100.csv\")\n",
    "    QQQ_data = pd.read_csv(\"datasets/QQQ_raw.csv\")\n",
    "    QQQ_split_data = pd.read_csv(\"datasets/QQQ_split_adj.csv\")\n",
    "    SPY500_data = pd.read_csv(\"datasets/SP500.csv\")\n",
    "    SPY_data = pd.read_csv(\"datasets/SPY.csv\")"
   ]
  },
  {
   "cell_type": "markdown",
   "metadata": {},
   "source": [
    "Predicting close"
   ]
  },
  {
   "cell_type": "code",
   "execution_count": 3,
   "metadata": {},
   "outputs": [
    {
     "name": "stdout",
     "output_type": "stream",
     "text": [
      "Mean Squared Error: 1.8139333254779888\n",
      "R-squared: 0.999855479349169\n",
      "Predicted future stock price: [403.11350685]\n"
     ]
    }
   ],
   "source": [
    "data = pd.read_csv('datasets/SPY.csv')\n",
    "\n",
    "# Prepare the data\n",
    "X = data[['open', 'high', 'low', 'volume', 'change_percent', ]]  # Features\n",
    "y = data['close']  # Target variable\n",
    "\n",
    "# Split the data into training and testing sets\n",
    "X_train, X_test, y_train, y_test = train_test_split(X, y, test_size=0.2, random_state=42)\n",
    "\n",
    "# Create a Random Forest Regressor\n",
    "hgb_regressor = HistGradientBoostingRegressor(random_state=42)\n",
    "\n",
    "# Train the model\n",
    "hgb_regressor.fit(X_train, y_train)\n",
    "\n",
    "# Make predictions on the test set\n",
    "y_pred = hgb_regressor.predict(X_test)\n",
    "\n",
    "# Evaluate the model\n",
    "mse = mean_squared_error(y_test, y_pred)\n",
    "r2 = r2_score(y_test, y_pred)\n",
    "\n",
    "print(\"Mean Squared Error:\", mse)\n",
    "print(\"R-squared:\", r2)\n",
    "\n",
    "# Make predictions for future stock prices\n",
    "future_data = pd.DataFrame({\n",
    "    'open': [400.0],\n",
    "    'high': [410.0],\n",
    "    'low': [395.0],\n",
    "    'volume': [1000000],\n",
    "    'change_percent': [0.5]\n",
    "})\n",
    "\n",
    "future_pred = hgb_regressor.predict(future_data)\n",
    "\n",
    "print(\"Predicted future stock price:\", future_pred)"
   ]
  },
  {
   "cell_type": "markdown",
   "metadata": {},
   "source": [
    "Predicting next day"
   ]
  },
  {
   "cell_type": "code",
   "execution_count": 16,
   "metadata": {},
   "outputs": [
    {
     "name": "stdout",
     "output_type": "stream",
     "text": [
      "Mean Squared Error: 7.447234231827849\n",
      "R-squared: 0.9993909052533178\n",
      "Predicted next day stock price: [407.8130068]\n"
     ]
    }
   ],
   "source": [
    "df = pd.read_csv('datasets/SPY.csv')\n",
    "\n",
    "# Assuming the target column is at index 4 (5th column)\n",
    "target_column = 4\n",
    "\n",
    "# Shift the target column by -1 to get the next row's value\n",
    "df['next_day_target'] = df.iloc[:, target_column].shift(-1)\n",
    "\n",
    "# Create new columns for previous day's features\n",
    "prev_day_columns = ['open', 'high', 'low', 'close', 'volume', 'change_percent']\n",
    "for column in prev_day_columns:\n",
    "    df[f'prev_day_{column}'] = df[column].shift(1)\n",
    "\n",
    "# Drop the last row since it will have missing values for the next day's target and previous day's features\n",
    "df = df[:-1]\n",
    "\n",
    "\n",
    "prev_week_columns = ['open', 'high', 'low', 'close', 'volume', 'change_percent']\n",
    "for column in prev_week_columns:\n",
    "    df[f'prev_week_{column}'] = df[column].shift(5)\n",
    "# Save the modified DataFrame back to a CSV file\n",
    "df.to_csv('modified_file.csv', index=False)\n",
    "\n",
    "data = pd.read_csv('modified_file.csv')\n",
    "\n",
    "X = data[['open', 'high', 'low', 'close', 'volume', 'change_percent']]  # Features\n",
    "y = data['next_day_target']  # Target variable\n",
    "\n",
    "\n",
    "X_train, X_test, y_train, y_test = train_test_split(X, y, test_size=0.2, random_state=42)\n",
    "\n",
    "\n",
    "hgb_regressor = HistGradientBoostingRegressor(random_state=42)\n",
    "\n",
    "# Train the model\n",
    "hgb_regressor.fit(X_train, y_train)\n",
    "\n",
    "# Make predictions on the test set\n",
    "y_pred = hgb_regressor.predict(X_test)\n",
    "\n",
    "# Evaluate the model\n",
    "mse = mean_squared_error(y_test, y_pred)\n",
    "r2 = r2_score(y_test, y_pred)\n",
    "\n",
    "print(\"Mean Squared Error:\", mse)\n",
    "print(\"R-squared:\", r2)\n",
    "\n",
    "future_data = pd.DataFrame({\n",
    "    'open': [400.0],\n",
    "    'high': [410.0],\n",
    "    'low': [395.0],\n",
    "    'close': [408.0],\n",
    "    'volume': [1000000],\n",
    "    'change_percent': [0.5]\n",
    "})\n",
    "\n",
    "future_pred = hgb_regressor.predict(future_data)\n",
    "\n",
    "print(\"Predicted next day stock price:\", future_pred)"
   ]
  }
 ],
 "metadata": {
  "kernelspec": {
   "display_name": "Python 3",
   "language": "python",
   "name": "python3"
  },
  "language_info": {
   "codemirror_mode": {
    "name": "ipython",
    "version": 3
   },
   "file_extension": ".py",
   "mimetype": "text/x-python",
   "name": "python",
   "nbconvert_exporter": "python",
   "pygments_lexer": "ipython3",
   "version": "3.11.5"
  }
 },
 "nbformat": 4,
 "nbformat_minor": 2
}
