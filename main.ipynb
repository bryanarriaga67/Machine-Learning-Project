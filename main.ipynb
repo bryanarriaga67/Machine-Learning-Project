{
 "cells": [
  {
   "cell_type": "code",
   "execution_count": 2,
   "metadata": {},
   "outputs": [],
   "source": [
    "import pandas as pd\n"
   ]
  },
  {
   "cell_type": "code",
   "execution_count": 3,
   "metadata": {},
   "outputs": [],
   "source": [
    "def load_datasets():\n",
    "    nasdaq_data = pd.read_csv(\"datasets/NASDAQ_100.csv\")\n",
    "    QQQ_data = pd.read_csv(\"datasets/QQQ_raw.csv\")\n",
    "    QQQ_split_data = pd.read_csv(\"datasets/QQQ_split_adj.csv\")\n",
    "    SPY500_data = pd.read_csv(\"datasets/SP500.csv\")\n",
    "    SPY_data = pd.read_csv(\"datasets/SPY.csv\")\n",
    "    "
   ]
  }
 ],
 "metadata": {
  "kernelspec": {
   "display_name": "Python 3",
   "language": "python",
   "name": "python3"
  },
  "language_info": {
   "codemirror_mode": {
    "name": "ipython",
    "version": 3
   },
   "file_extension": ".py",
   "mimetype": "text/x-python",
   "name": "python",
   "nbconvert_exporter": "python",
   "pygments_lexer": "ipython3",
   "version": "3.10.4"
  }
 },
 "nbformat": 4,
 "nbformat_minor": 2
}
