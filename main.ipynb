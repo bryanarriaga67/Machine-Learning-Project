{
 "cells": [
  {
   "cell_type": "code",
   "execution_count": 2,
   "metadata": {},
   "outputs": [],
   "source": [
    "import pandas as pd\n"
   ]
  },
  {
   "cell_type": "code",
   "execution_count": 4,
   "metadata": {},
   "outputs": [
    {
     "name": "stdout",
     "output_type": "stream",
     "text": [
      "NASDAQ 100 Columns: ['date', 'open', 'high', 'low', 'close', 'volume', 'change_percent', 'avg_vol_20d']\n",
      "QQQ Raw Columns: ['date', 'open', 'high', 'low', 'close', 'volume', 'adjusted_close', 'change_percent', 'avg_vol_20d']\n",
      "QQQ Split Adjusted Columns: ['date', 'open', 'high', 'low', 'close', 'volume', 'raw_close', 'change_percent', 'avg_vol_20d']\n",
      "S&P 500 Columns: ['date', 'open', 'high', 'low', 'close', 'volume', 'change_percent', 'avg_vol_20d']\n",
      "SPY Columns: ['date', 'open', 'high', 'low', 'close', 'volume', 'adjusted_close', 'change_percent', 'avg_vol_20d']\n"
     ]
    }
   ],
   "source": [
    "def load_datasets():\n",
    "    nasdaq_data = pd.read_csv(\"datasets/NASDAQ_100.csv\")\n",
    "    QQQ_data = pd.read_csv(\"datasets/QQQ_raw.csv\")\n",
    "    QQQ_split_data = pd.read_csv(\"datasets/QQQ_split_adj.csv\")\n",
    "    SPY500_data = pd.read_csv(\"datasets/SP500.csv\")\n",
    "    SPY_data = pd.read_csv(\"datasets/SPY.csv\")\n",
    "\n",
    "    # Printing the column names for each dataset\n",
    "    print(\"NASDAQ 100 Columns:\", nasdaq_data.columns.tolist())\n",
    "    print(\"QQQ Raw Columns:\", QQQ_data.columns.tolist())\n",
    "    print(\"QQQ Split Adjusted Columns:\", QQQ_split_data.columns.tolist())\n",
    "    print(\"S&P 500 Columns:\", SPY500_data.columns.tolist())\n",
    "    print(\"SPY Columns:\", SPY_data.columns.tolist())\n",
    "\n",
    "load_datasets()\n",
    "    "
   ]
  }
 ],
 "metadata": {
  "kernelspec": {
   "display_name": "Python 3",
   "language": "python",
   "name": "python3"
  },
  "language_info": {
   "codemirror_mode": {
    "name": "ipython",
    "version": 3
   },
   "file_extension": ".py",
   "mimetype": "text/x-python",
   "name": "python",
   "nbconvert_exporter": "python",
   "pygments_lexer": "ipython3",
   "version": "3.10.4"
  }
 },
 "nbformat": 4,
 "nbformat_minor": 2
}
